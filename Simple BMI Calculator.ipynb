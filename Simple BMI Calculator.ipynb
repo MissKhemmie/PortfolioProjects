{
 "cells": [
  {
   "cell_type": "code",
   "execution_count": null,
   "id": "40453786",
   "metadata": {},
   "outputs": [],
   "source": [
    "#BMI = (weight in pounds x 703) / (height in inches x height in inches)"
   ]
  },
  {
   "cell_type": "code",
   "execution_count": 20,
   "id": "0f74ab02",
   "metadata": {},
   "outputs": [
    {
     "name": "stdout",
     "output_type": "stream",
     "text": [
      "Enter your name: Kemi\n",
      "Enter your weight in kg: 59.5\n",
      "Enter your height in meters: 1.55\n",
      "24.76586888657648\n"
     ]
    }
   ],
   "source": [
    "name = input(\"Enter your name: \")\n",
    "weight = float (input(\"Enter your weight in kg: \"))\n",
    "height = float (input(\"Enter your height in meters: \"))\n",
    "\n",
    "BMI = (weight) / (height**2)\n",
    "print (BMI)"
   ]
  },
  {
   "cell_type": "code",
   "execution_count": 22,
   "id": "21eaacbd",
   "metadata": {},
   "outputs": [
    {
     "name": "stdout",
     "output_type": "stream",
     "text": [
      "Kemi, You are Normal weight\n"
     ]
    }
   ],
   "source": [
    "if BMI>0:\n",
    "    if BMI <=18.4:\n",
    "        print (name + \", You are Underweight\")\n",
    "    elif BMI <=24.9:\n",
    "        print (name + \", You are Normal weight\")\n",
    "    elif BMI <= 39.9:\n",
    "        print (name + \", You are Overweight\")\n",
    "else:\n",
    "    print (name + \" You are obese\")\n"
   ]
  },
  {
   "cell_type": "code",
   "execution_count": null,
   "id": "39c698e7",
   "metadata": {},
   "outputs": [],
   "source": []
  },
  {
   "cell_type": "code",
   "execution_count": null,
   "id": "89b8239b",
   "metadata": {},
   "outputs": [],
   "source": [
    "BMI\tStatus\n",
    "≤ 18.4\tUnderweight\n",
    "18.5 - 24.9\tNormal\n",
    "25.0 - 39.9\tOverweight\n",
    "≥ 40.0\tObese"
   ]
  }
 ],
 "metadata": {
  "kernelspec": {
   "display_name": "Python 3 (ipykernel)",
   "language": "python",
   "name": "python3"
  },
  "language_info": {
   "codemirror_mode": {
    "name": "ipython",
    "version": 3
   },
   "file_extension": ".py",
   "mimetype": "text/x-python",
   "name": "python",
   "nbconvert_exporter": "python",
   "pygments_lexer": "ipython3",
   "version": "3.9.12"
  }
 },
 "nbformat": 4,
 "nbformat_minor": 5
}
