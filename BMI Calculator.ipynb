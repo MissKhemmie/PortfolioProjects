{
 "cells": [
  {
   "cell_type": "code",
   "execution_count": 45,
   "id": "60e12939",
   "metadata": {},
   "outputs": [
    {
     "name": "stdout",
     "output_type": "stream",
     "text": [
      "Enter your name: Alex\n",
      "Enter your weight in Kg: 170\n",
      "Enter your height in inches: 69\n",
      "25.101869355177485\n",
      "Alex, You are Overweight_Increased\n"
     ]
    }
   ],
   "source": [
    "name = input(\"Enter your name: \")\n",
    "\n",
    "weight = int (input(\"Enter your weight in Kg: \"))\n",
    "\n",
    "height = int (input(\"Enter your height in inches: \"))\n",
    "\n",
    "BMI = (weight * 703) / (height * height)\n",
    "\n",
    "print (BMI)\n",
    "if BMI <= 18.5:\n",
    "    print (name + \", You are Underweight_Minimal\")\n",
    "elif BMI <=24.9:\n",
    "    print (name + \", Your are Normal Weight_Minimal\")\n",
    "elif BMI <=29.9:\n",
    "    print (name + \", You are Overweight_Increased\")\n",
    "elif BMI <=34.9:\n",
    "    print (name + \", You are Obese_High\")\n",
    "elif BMI <=39.9:\n",
    "    print (name + \", You are Severly Obese_Very High\")\n",
    "else:\n",
    "    print (name + \", You are Morbidly Obese_Extremely High\")"
   ]
  },
  {
   "cell_type": "code",
   "execution_count": null,
   "id": "7fb78729",
   "metadata": {},
   "outputs": [],
   "source": []
  },
  {
   "cell_type": "code",
   "execution_count": null,
   "id": "30c1d7b5",
   "metadata": {},
   "outputs": [],
   "source": []
  },
  {
   "cell_type": "code",
   "execution_count": null,
   "id": "d3b2d6f3",
   "metadata": {},
   "outputs": [],
   "source": []
  },
  {
   "cell_type": "code",
   "execution_count": null,
   "id": "3b3d4afa",
   "metadata": {},
   "outputs": [],
   "source": []
  },
  {
   "cell_type": "code",
   "execution_count": null,
   "id": "8198b74f",
   "metadata": {},
   "outputs": [],
   "source": [
    "Under 18.5\tUnderweight\tMinimal\n",
    "18.5 - 24.9\tNormal Weight\tMinimal\n",
    "25 - 29.9\tOverweight\tIncreased\n",
    "30 - 34.9\tObese\tHigh\n",
    "35 - 39.9\tSeverely Obese\tVery High\n",
    "40 and over\tMorbidly Obese\tExtremely High"
   ]
  },
  {
   "cell_type": "code",
   "execution_count": null,
   "id": "ebe1290d",
   "metadata": {},
   "outputs": [],
   "source": []
  },
  {
   "cell_type": "code",
   "execution_count": null,
   "id": "f71ebf4d",
   "metadata": {},
   "outputs": [],
   "source": []
  }
 ],
 "metadata": {
  "kernelspec": {
   "display_name": "Python 3 (ipykernel)",
   "language": "python",
   "name": "python3"
  },
  "language_info": {
   "codemirror_mode": {
    "name": "ipython",
    "version": 3
   },
   "file_extension": ".py",
   "mimetype": "text/x-python",
   "name": "python",
   "nbconvert_exporter": "python",
   "pygments_lexer": "ipython3",
   "version": "3.9.12"
  }
 },
 "nbformat": 4,
 "nbformat_minor": 5
}
